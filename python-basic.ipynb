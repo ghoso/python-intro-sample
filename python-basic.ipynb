{
 "cells": [
  {
   "cell_type": "code",
   "execution_count": 6,
   "metadata": {},
   "outputs": [
    {
     "name": "stdout",
     "output_type": "stream",
     "text": [
      "Hello World !\n"
     ]
    }
   ],
   "source": [
    "print(\"Hello World !\")"
   ]
  },
  {
   "cell_type": "code",
   "execution_count": 5,
   "metadata": {},
   "outputs": [
    {
     "name": "stdout",
     "output_type": "stream",
     "text": [
      "100\n"
     ]
    }
   ],
   "source": [
    "#\n",
    "#  変数\n",
    "#\n",
    "a = 100\n",
    "print(a)"
   ]
  },
  {
   "cell_type": "code",
   "execution_count": 8,
   "metadata": {},
   "outputs": [
    {
     "name": "stdout",
     "output_type": "stream",
     "text": [
      "Hello Python\n"
     ]
    }
   ],
   "source": [
    "b = \"Hello Python\"\n",
    "print(b)"
   ]
  },
  {
   "cell_type": "code",
   "execution_count": 2,
   "metadata": {},
   "outputs": [
    {
     "data": {
      "text/plain": [
       "100"
      ]
     },
     "execution_count": 2,
     "metadata": {},
     "output_type": "execute_result"
    }
   ],
   "source": [
    "#\n",
    "# データ型\n",
    "#\n",
    "int_a = 10  # 整数\n",
    "int_b = -123  # 負の整数\n",
    "real_c = 3.1  # 実数\n",
    "\n",
    "int_a * int_a"
   ]
  },
  {
   "cell_type": "code",
   "execution_count": 12,
   "metadata": {},
   "outputs": [
    {
     "data": {
      "text/plain": [
       "31.0"
      ]
     },
     "execution_count": 12,
     "metadata": {},
     "output_type": "execute_result"
    }
   ],
   "source": [
    "int_a * real_c"
   ]
  },
  {
   "cell_type": "code",
   "execution_count": 13,
   "metadata": {},
   "outputs": [
    {
     "data": {
      "text/plain": [
       "-12.3"
      ]
     },
     "execution_count": 13,
     "metadata": {},
     "output_type": "execute_result"
    }
   ],
   "source": [
    "int_b / int_a"
   ]
  },
  {
   "cell_type": "code",
   "execution_count": 4,
   "metadata": {},
   "outputs": [
    {
     "data": {
      "text/plain": [
       "-13"
      ]
     },
     "execution_count": 4,
     "metadata": {},
     "output_type": "execute_result"
    }
   ],
   "source": [
    "int_b // int_a"
   ]
  },
  {
   "cell_type": "code",
   "execution_count": 17,
   "metadata": {},
   "outputs": [
    {
     "data": {
      "text/plain": [
       "'10'"
      ]
     },
     "execution_count": 17,
     "metadata": {},
     "output_type": "execute_result"
    }
   ],
   "source": [
    "#\n",
    "# 型変換\n",
    "#\n",
    "str(int_a)"
   ]
  },
  {
   "cell_type": "code",
   "execution_count": 19,
   "metadata": {},
   "outputs": [
    {
     "data": {
      "text/plain": [
       "-123.0"
      ]
     },
     "execution_count": 19,
     "metadata": {},
     "output_type": "execute_result"
    }
   ],
   "source": [
    "float(int_b)"
   ]
  },
  {
   "cell_type": "code",
   "execution_count": 22,
   "metadata": {},
   "outputs": [
    {
     "data": {
      "text/plain": [
       "123"
      ]
     },
     "execution_count": 22,
     "metadata": {},
     "output_type": "execute_result"
    }
   ],
   "source": [
    "int_str = '123'\n",
    "int(int_str)"
   ]
  },
  {
   "cell_type": "code",
   "execution_count": 27,
   "metadata": {},
   "outputs": [
    {
     "data": {
      "text/plain": [
       "'Hello'"
      ]
     },
     "execution_count": 27,
     "metadata": {},
     "output_type": "execute_result"
    }
   ],
   "source": [
    "#\n",
    "#  文字列\n",
    "#\n",
    "\"Hello\""
   ]
  },
  {
   "cell_type": "code",
   "execution_count": 29,
   "metadata": {},
   "outputs": [
    {
     "data": {
      "text/plain": [
       "'World'"
      ]
     },
     "execution_count": 29,
     "metadata": {},
     "output_type": "execute_result"
    }
   ],
   "source": [
    "'World'"
   ]
  },
  {
   "cell_type": "code",
   "execution_count": 1,
   "metadata": {},
   "outputs": [
    {
     "data": {
      "text/plain": [
       "\"It's a wonderful world\""
      ]
     },
     "execution_count": 1,
     "metadata": {},
     "output_type": "execute_result"
    }
   ],
   "source": [
    "\"It's a wonderful world\""
   ]
  },
  {
   "cell_type": "code",
   "execution_count": 2,
   "metadata": {},
   "outputs": [
    {
     "data": {
      "text/plain": [
       "'Hello Python!'"
      ]
     },
     "execution_count": 2,
     "metadata": {},
     "output_type": "execute_result"
    }
   ],
   "source": [
    "#\n",
    "#  文字列操作\n",
    "#\n",
    "str1 = \"Hello Python!\"\n",
    "\n",
    "# スライス [start:end:step]\n",
    "str1[:]"
   ]
  },
  {
   "cell_type": "code",
   "execution_count": 5,
   "metadata": {},
   "outputs": [
    {
     "data": {
      "text/plain": [
       "'Hel'"
      ]
     },
     "execution_count": 5,
     "metadata": {},
     "output_type": "execute_result"
    }
   ],
   "source": [
    "# 1文字目から3文字目まで\n",
    "str1[0:3]\n",
    "     "
   ]
  },
  {
   "cell_type": "code",
   "execution_count": 8,
   "metadata": {},
   "outputs": [
    {
     "data": {
      "text/plain": [
       "'HloPto!'"
      ]
     },
     "execution_count": 8,
     "metadata": {},
     "output_type": "execute_result"
    }
   ],
   "source": [
    "# 1文字目から13文字目まで1文字おき\n",
    "str1[0:13:2]"
   ]
  },
  {
   "cell_type": "code",
   "execution_count": 10,
   "metadata": {},
   "outputs": [
    {
     "data": {
      "text/plain": [
       "'Hello Pytho'"
      ]
     },
     "execution_count": 10,
     "metadata": {},
     "output_type": "execute_result"
    }
   ],
   "source": [
    "# 1文字目から終わりから2文字目まで\n",
    "str1[0:-2]"
   ]
  },
  {
   "cell_type": "code",
   "execution_count": 12,
   "metadata": {},
   "outputs": [
    {
     "data": {
      "text/plain": [
       "13"
      ]
     },
     "execution_count": 12,
     "metadata": {},
     "output_type": "execute_result"
    }
   ],
   "source": [
    "# 文字数\n",
    "len(str1)"
   ]
  },
  {
   "cell_type": "code",
   "execution_count": 15,
   "metadata": {},
   "outputs": [
    {
     "data": {
      "text/plain": [
       "['Hello', 'Python!']"
      ]
     },
     "execution_count": 15,
     "metadata": {},
     "output_type": "execute_result"
    }
   ],
   "source": [
    "# 文字列分割\n",
    "str1.split(' ')"
   ]
  },
  {
   "cell_type": "code",
   "execution_count": 18,
   "metadata": {},
   "outputs": [
    {
     "data": {
      "text/plain": [
       "'This is Python!'"
      ]
     },
     "execution_count": 18,
     "metadata": {},
     "output_type": "execute_result"
    }
   ],
   "source": [
    "# 文字列結合　リスト\n",
    "str_list = ['This','is','Python!']\n",
    "' '.join(str_list)"
   ]
  },
  {
   "cell_type": "code",
   "execution_count": 7,
   "metadata": {},
   "outputs": [
    {
     "data": {
      "text/plain": [
       "'Goodbye Python!'"
      ]
     },
     "execution_count": 7,
     "metadata": {},
     "output_type": "execute_result"
    }
   ],
   "source": [
    "# 文字列置換\n",
    "str1.replace('Hello','Goodbye')"
   ]
  },
  {
   "cell_type": "code",
   "execution_count": 13,
   "metadata": {},
   "outputs": [
    {
     "name": "stdout",
     "output_type": "stream",
     "text": [
      "[1, 'Hello', 0.5, 'a']\n"
     ]
    }
   ],
   "source": [
    "#\n",
    "#  リスト（配列）\n",
    "#   ブラケット[ ]を使う\n",
    "a = [1,\"Hello\",0.5,'a']\n",
    "print(a)"
   ]
  },
  {
   "cell_type": "code",
   "execution_count": 16,
   "metadata": {},
   "outputs": [
    {
     "name": "stdout",
     "output_type": "stream",
     "text": [
      "Hello\n"
     ]
    }
   ],
   "source": [
    "# リスト要素へのアクセス\n",
    "print(a[1])"
   ]
  },
  {
   "cell_type": "code",
   "execution_count": 18,
   "metadata": {},
   "outputs": [
    {
     "name": "stdout",
     "output_type": "stream",
     "text": [
      "[0.5, 'a']\n"
     ]
    }
   ],
   "source": [
    "# リスト要素へのアクセス\n",
    "print(a[2:4])"
   ]
  },
  {
   "cell_type": "code",
   "execution_count": 22,
   "metadata": {},
   "outputs": [
    {
     "name": "stdout",
     "output_type": "stream",
     "text": [
      "['c', 'a', 't']\n"
     ]
    }
   ],
   "source": [
    "# リスト型に変換\n",
    "b = list('cat')\n",
    "print(b)"
   ]
  },
  {
   "cell_type": "code",
   "execution_count": 2,
   "metadata": {},
   "outputs": [
    {
     "name": "stdout",
     "output_type": "stream",
     "text": [
      "[['alpha', 'beta', 'gamma'], ['赤', '青', '黄'], ['New York', 'Paris', 'London']]\n",
      "黄\n"
     ]
    }
   ],
   "source": [
    "# リストのリスト\n",
    "list1 = ['alpha','beta','gamma']\n",
    "list2 = ['赤','青','黄']\n",
    "list3 = ['New York','Paris','London']\n",
    "list_a = [list1, list2, list3]\n",
    "print(list_a)\n",
    "print(list_a[1][2])"
   ]
  },
  {
   "cell_type": "code",
   "execution_count": 3,
   "metadata": {},
   "outputs": [
    {
     "name": "stdout",
     "output_type": "stream",
     "text": [
      "['大阪', '名古屋']\n"
     ]
    }
   ],
   "source": [
    "# リストのスライス\n",
    "list_b = ['東京','大阪','名古屋','神戸','横浜']\n",
    "print(list_b[1:3])"
   ]
  },
  {
   "cell_type": "code",
   "execution_count": 33,
   "metadata": {},
   "outputs": [
    {
     "name": "stdout",
     "output_type": "stream",
     "text": [
      "['東京', '名古屋', '横浜']\n"
     ]
    }
   ],
   "source": [
    "# リストのステップ\n",
    "print(list_b[0:5:2])"
   ]
  },
  {
   "cell_type": "code",
   "execution_count": 34,
   "metadata": {},
   "outputs": [
    {
     "name": "stdout",
     "output_type": "stream",
     "text": [
      "['横浜', '神戸', '名古屋', '大阪', '東京']\n"
     ]
    }
   ],
   "source": [
    "# リストの逆順テクニック\n",
    "print(list_b[::-1])"
   ]
  },
  {
   "cell_type": "code",
   "execution_count": 48,
   "metadata": {},
   "outputs": [
    {
     "name": "stdout",
     "output_type": "stream",
     "text": [
      "['alpha', 'beta', 'gamma', 'theta']\n"
     ]
    }
   ],
   "source": [
    "# リスト追加\n",
    "list1.append('theta')\n",
    "print(list1)"
   ]
  },
  {
   "cell_type": "code",
   "execution_count": 4,
   "metadata": {},
   "outputs": [
    {
     "name": "stdout",
     "output_type": "stream",
     "text": [
      "['New York', 'Paris', 'London', '東京', '大阪', '名古屋', '神戸', '横浜']\n"
     ]
    }
   ],
   "source": [
    "# リストをまとめる\n",
    "list3.extend(list_b)\n",
    "print(list3)"
   ]
  },
  {
   "cell_type": "code",
   "execution_count": 52,
   "metadata": {},
   "outputs": [
    {
     "name": "stdout",
     "output_type": "stream",
     "text": [
      "['alpha', 'beta', 'epsilon', 'gamma']\n"
     ]
    }
   ],
   "source": [
    "# リストの位置を指定して追加\n",
    "list1 = ['alpha','beta','gamma']\n",
    "list1.insert(2,'epsilon')\n",
    "print(list1)"
   ]
  },
  {
   "cell_type": "code",
   "execution_count": 54,
   "metadata": {},
   "outputs": [
    {
     "name": "stdout",
     "output_type": "stream",
     "text": [
      "['alpha', 'beta']\n"
     ]
    }
   ],
   "source": [
    "# インデックス指定のリスト要素削除\n",
    "del list1[2]\n",
    "print(list1)"
   ]
  },
  {
   "cell_type": "code",
   "execution_count": 56,
   "metadata": {},
   "outputs": [
    {
     "name": "stdout",
     "output_type": "stream",
     "text": [
      "['alpha', 'beta']\n"
     ]
    }
   ],
   "source": [
    "# 値を指定してリスト要素削除\n",
    "list1 = ['alpha','beta','gamma']\n",
    "list1.remove('gamma')\n",
    "print(list1)"
   ]
  },
  {
   "cell_type": "code",
   "execution_count": 59,
   "metadata": {},
   "outputs": [
    {
     "name": "stdout",
     "output_type": "stream",
     "text": [
      "gamma\n",
      "['alpha', 'beta']\n"
     ]
    }
   ],
   "source": [
    "# リストから要素を取り出し削除\n",
    "list1 = ['alpha','beta','gamma']\n",
    "print(list1.pop())\n",
    "print(list1)"
   ]
  },
  {
   "cell_type": "code",
   "execution_count": 61,
   "metadata": {},
   "outputs": [
    {
     "data": {
      "text/plain": [
       "'alpha,beta,gamma'"
      ]
     },
     "execution_count": 61,
     "metadata": {},
     "output_type": "execute_result"
    }
   ],
   "source": [
    "# joinによるリストから文字列への変換\n",
    "list1 = ['alpha','beta','gamma']\n",
    "\",\".join(list1)"
   ]
  },
  {
   "cell_type": "code",
   "execution_count": 64,
   "metadata": {},
   "outputs": [
    {
     "name": "stdout",
     "output_type": "stream",
     "text": [
      "['alpha', 'beta', 'gamma']\n"
     ]
    }
   ],
   "source": [
    "# 並べ替え\n",
    "list1 = ['beta','gamma','alpha']\n",
    "print(sorted(list1))"
   ]
  },
  {
   "cell_type": "code",
   "execution_count": 2,
   "metadata": {},
   "outputs": [
    {
     "name": "stdout",
     "output_type": "stream",
     "text": [
      "['alpha', 'beta', 'gamma']\n"
     ]
    }
   ],
   "source": [
    "# 並べ替え\n",
    "list1 = ['beta','gamma','alpha']\n",
    "list1.sort()\n",
    "print(list1)"
   ]
  },
  {
   "cell_type": "code",
   "execution_count": 4,
   "metadata": {},
   "outputs": [
    {
     "data": {
      "text/plain": [
       "3"
      ]
     },
     "execution_count": 4,
     "metadata": {},
     "output_type": "execute_result"
    }
   ],
   "source": [
    "# 長さ\n",
    "list1 = ['beta','gamma','alpha']\n",
    "len(list1)"
   ]
  },
  {
   "cell_type": "code",
   "execution_count": 4,
   "metadata": {},
   "outputs": [
    {
     "name": "stdout",
     "output_type": "stream",
     "text": [
      "[1, 2, 3, 4, 5]\n",
      "['あれ？', 2, 3, 4, 5]\n",
      "['あれ？', 2, 3, 4, 5]\n"
     ]
    }
   ],
   "source": [
    "# リストのコピー(参照)\n",
    "n = [1,2,3,4,5]\n",
    "n_ref = n\n",
    "print(n_ref)\n",
    "n[0] = 'あれ？'\n",
    "print(n)\n",
    "print(n_ref)"
   ]
  },
  {
   "cell_type": "code",
   "execution_count": 6,
   "metadata": {},
   "outputs": [
    {
     "name": "stdout",
     "output_type": "stream",
     "text": [
      "[1, 2, 3, 4, 5]\n",
      "[1, 2, 3, 4, 5]\n",
      "['OK', 2, 3, 4, 5]\n"
     ]
    }
   ],
   "source": [
    "# リストのコピー（実体）\n",
    "n = [1,2,3,4,5]\n",
    "n_cp = n.copy()\n",
    "print(n_cp)\n",
    "n[0] = 'OK'\n",
    "print(n_cp)\n",
    "print(n)"
   ]
  },
  {
   "cell_type": "code",
   "execution_count": 9,
   "metadata": {},
   "outputs": [
    {
     "name": "stdout",
     "output_type": "stream",
     "text": [
      "('東京', '大阪', '名古屋')\n"
     ]
    }
   ],
   "source": [
    "#\n",
    "# タプル\n",
    "# イミュータブル 同じデータタイプ\n",
    "#　丸括弧( )を使う\n",
    "#\n",
    "city=('東京','大阪','名古屋')\n",
    "print(city)"
   ]
  },
  {
   "cell_type": "code",
   "execution_count": 12,
   "metadata": {},
   "outputs": [
    {
     "name": "stdout",
     "output_type": "stream",
     "text": [
      "羅生門\n"
     ]
    }
   ],
   "source": [
    "#\n",
    "# 辞書　（連想配列、ハッシュ）\n",
    "# 「キー:値」の形を持つ型\n",
    "# 中括弧 { }を使う\n",
    "#\n",
    "book = {\n",
    "    \"夏目漱石\": \"吾輩はねこである\",\n",
    "    \"芥川龍之介\": \"羅生門\",\n",
    "    \"森鴎外\": \"高瀬舟\"\n",
    "}\n",
    "print(book[\"芥川龍之介\"])"
   ]
  },
  {
   "cell_type": "code",
   "execution_count": 13,
   "metadata": {},
   "outputs": [
    {
     "name": "stdout",
     "output_type": "stream",
     "text": [
      "{'夏目漱石': '吾輩はねこである', '芥川龍之介': '羅生門', '森鴎外': '高瀬舟', '宮沢賢治': '銀河鉄道の夜'}\n",
      "{'夏目漱石': 'こころ', '芥川龍之介': '羅生門', '森鴎外': '高瀬舟', '宮沢賢治': '銀河鉄道の夜'}\n"
     ]
    }
   ],
   "source": [
    "# 辞書の追加、変更\n",
    "book[\"宮沢賢治\"] = \"銀河鉄道の夜\"\n",
    "print(book)\n",
    "book[\"夏目漱石\"] = \"こころ\"\n",
    "print(book)"
   ]
  },
  {
   "cell_type": "code",
   "execution_count": 14,
   "metadata": {},
   "outputs": [
    {
     "name": "stdout",
     "output_type": "stream",
     "text": [
      "{'夏目漱石': 'こころ', '芥川龍之介': '羅生門', '森鴎外': '高瀬舟', '宮沢賢治': '銀河鉄道の夜', '村上春樹': 'ノルウェイの森', '太宰治': '人間失格'}\n"
     ]
    }
   ],
   "source": [
    "# 辞書の結合\n",
    "another_book = {\n",
    "    \"村上春樹\": \"ノルウェイの森\",\n",
    "    \"太宰治\": \"人間失格\"\n",
    "}\n",
    "book.update(another_book)\n",
    "print(book)"
   ]
  },
  {
   "cell_type": "code",
   "execution_count": 15,
   "metadata": {},
   "outputs": [
    {
     "name": "stdout",
     "output_type": "stream",
     "text": [
      "{'夏目漱石': 'こころ', '芥川龍之介': '羅生門', '宮沢賢治': '銀河鉄道の夜', '村上春樹': 'ノルウェイの森', '太宰治': '人間失格'}\n"
     ]
    }
   ],
   "source": [
    "# 辞書の要素の削除\n",
    "del book['森鴎外']\n",
    "print(book)"
   ]
  },
  {
   "cell_type": "code",
   "execution_count": 18,
   "metadata": {},
   "outputs": [
    {
     "name": "stdout",
     "output_type": "stream",
     "text": [
      "{}\n"
     ]
    }
   ],
   "source": [
    "# 辞書の全要素削除\n",
    "book.clear()\n",
    "print(book)"
   ]
  },
  {
   "cell_type": "code",
   "execution_count": 21,
   "metadata": {},
   "outputs": [
    {
     "name": "stdout",
     "output_type": "stream",
     "text": [
      "dict_keys(['夏目漱石', '芥川龍之介', '森鴎外'])\n",
      "['夏目漱石', '芥川龍之介', '森鴎外']\n"
     ]
    }
   ],
   "source": [
    "# 辞書のキーを取得\n",
    "book = {\n",
    "    \"夏目漱石\": \"吾輩はねこである\",\n",
    "    \"芥川龍之介\": \"羅生門\",\n",
    "    \"森鴎外\": \"高瀬舟\"\n",
    "}\n",
    "print(book.keys())\n",
    "print(list(book.keys()))"
   ]
  },
  {
   "cell_type": "code",
   "execution_count": 23,
   "metadata": {},
   "outputs": [
    {
     "name": "stdout",
     "output_type": "stream",
     "text": [
      "{'夏目漱石': 'こころ', '芥川龍之介': '羅生門', '森鴎外': '高瀬舟'}\n",
      "{'夏目漱石': 'こころ', '芥川龍之介': '羅生門', '森鴎外': '高瀬舟'}\n"
     ]
    }
   ],
   "source": [
    "# 辞書のコピー(参照)\n",
    "ref_book = book\n",
    "print(ref_book)\n",
    "book[\"夏目漱石\"] = \"こころ\"\n",
    "print(ref_book)"
   ]
  },
  {
   "cell_type": "code",
   "execution_count": 25,
   "metadata": {},
   "outputs": [
    {
     "name": "stdout",
     "output_type": "stream",
     "text": [
      "{'夏目漱石': '吾輩はねこである', '芥川龍之介': '羅生門', '森鴎外': '高瀬舟'}\n",
      "{'夏目漱石': '吾輩はねこである', '芥川龍之介': '羅生門', '森鴎外': '高瀬舟'}\n"
     ]
    }
   ],
   "source": [
    "# 辞書コピー（実体）\n",
    "book = {\n",
    "    \"夏目漱石\": \"吾輩はねこである\",\n",
    "    \"芥川龍之介\": \"羅生門\",\n",
    "    \"森鴎外\": \"高瀬舟\"\n",
    "}\n",
    "cp_book = book.copy()\n",
    "print(cp_book)\n",
    "book[\"夏目漱石\"] = \"こころ\"\n",
    "print(cp_book)"
   ]
  },
  {
   "cell_type": "code",
   "execution_count": 27,
   "metadata": {},
   "outputs": [
    {
     "name": "stdout",
     "output_type": "stream",
     "text": [
      "{1, 2, 3, 4, 5}\n"
     ]
    }
   ],
   "source": [
    "#\n",
    "# 集合\n",
    "#  順番を持たないデータの集まり\n",
    "# \n",
    "set1 = {1, 2, 3, 4, 5}\n",
    "print(set1)"
   ]
  },
  {
   "cell_type": "code",
   "execution_count": 7,
   "metadata": {},
   "outputs": [
    {
     "name": "stdout",
     "output_type": "stream",
     "text": [
      "{'H', 'l', 'o', 'e'}\n",
      "{'Nagoya', 'Tokyo', 'Hakata', 'Osaka'}\n",
      "{1, 2, 3}\n"
     ]
    }
   ],
   "source": [
    "# 他のデータ型から集合への変換\n",
    "set_char = set('Hello')\n",
    "print(set_char)\n",
    "set_array = set(['Tokyo','Osaka','Nagoya','Hakata'])\n",
    "print(set_array)\n",
    "set_dict = set({1:'blue',2:'red',3:'yellow'})\n",
    "print(set_dict)"
   ]
  },
  {
   "cell_type": "code",
   "execution_count": 9,
   "metadata": {},
   "outputs": [
    {
     "name": "stdout",
     "output_type": "stream",
     "text": [
      "{3, 7}\n"
     ]
    }
   ],
   "source": [
    "# 集合演算\n",
    "# 積集合\n",
    "set1 = {1, 3, 5, 7}\n",
    "set2 = {2, 3, 7}\n",
    "set3 = {1, 2, 3, 5, 7, 9, 10}\n",
    "print(set1 & set2)\n",
    "# set1.instersect(set2)"
   ]
  },
  {
   "cell_type": "code",
   "execution_count": 33,
   "metadata": {},
   "outputs": [
    {
     "name": "stdout",
     "output_type": "stream",
     "text": [
      "{1, 2, 3, 5, 7}\n"
     ]
    }
   ],
   "source": [
    "# 和集合\n",
    "print(set1 | set2)\n",
    "# set1.union(set2)"
   ]
  },
  {
   "cell_type": "code",
   "execution_count": 35,
   "metadata": {},
   "outputs": [
    {
     "name": "stdout",
     "output_type": "stream",
     "text": [
      "{1, 5}\n"
     ]
    }
   ],
   "source": [
    "# 差集合\n",
    "print(set1 - set2)\n",
    "# set1.difference(set2)"
   ]
  },
  {
   "cell_type": "code",
   "execution_count": 37,
   "metadata": {},
   "outputs": [
    {
     "name": "stdout",
     "output_type": "stream",
     "text": [
      "{1, 2, 5}\n"
     ]
    }
   ],
   "source": [
    "# 排他的論理和\n",
    "print(set1 ^ set2)\n",
    "# set1.symmetric_difference(set2)"
   ]
  },
  {
   "cell_type": "code",
   "execution_count": 10,
   "metadata": {},
   "outputs": [
    {
     "name": "stdout",
     "output_type": "stream",
     "text": [
      "False\n",
      "True\n"
     ]
    }
   ],
   "source": [
    "# 部分集合\n",
    "print(set1 <= set2)\n",
    "# set1.issuset(set2)\n",
    "print(set1 <= set3)"
   ]
  },
  {
   "cell_type": "code",
   "execution_count": 6,
   "metadata": {},
   "outputs": [
    {
     "name": "stdout",
     "output_type": "stream",
     "text": [
      "True\n"
     ]
    }
   ],
   "source": [
    "# 真部分集合\n",
    "print(set1 < set3)"
   ]
  },
  {
   "cell_type": "code",
   "execution_count": 11,
   "metadata": {},
   "outputs": [
    {
     "name": "stdout",
     "output_type": "stream",
     "text": [
      "Blue\n"
     ]
    }
   ],
   "source": [
    "#\n",
    "# 制御構造\n",
    "#\n",
    "# 条件分岐\n",
    "#\n",
    "color = 1\n",
    "if color == 0:\n",
    "    print(\"Red\")\n",
    "elif color == 1:\n",
    "    print(\"Blue\")\n",
    "else:\n",
    "    print(\"No Color\")"
   ]
  },
  {
   "cell_type": "code",
   "execution_count": 3,
   "metadata": {},
   "outputs": [
    {
     "name": "stdout",
     "output_type": "stream",
     "text": [
      "Man\n"
     ]
    }
   ],
   "source": [
    "#\n",
    "#  論理演算子\n",
    "#     and、or、not\n",
    "#\n",
    "age = 20\n",
    "gender = 'male'\n",
    "if age < 20 and gender == 'male':\n",
    "    print(\"Boy\")\n",
    "elif age >= 20 and gender == 'male':\n",
    "    print(\"Man\")\n",
    "elif age < 20 and gender == 'female':\n",
    "    print(\"Girl\")\n",
    "elif age >= 20 and gender == 'female':\n",
    "    print(\"Woman\")"
   ]
  },
  {
   "cell_type": "code",
   "execution_count": 3,
   "metadata": {},
   "outputs": [
    {
     "name": "stdout",
     "output_type": "stream",
     "text": [
      "5\n",
      "4\n",
      "3\n",
      "2\n",
      "1\n"
     ]
    }
   ],
   "source": [
    "#\n",
    "# 繰り返し while\n",
    "#\n",
    "i = 5\n",
    "while i > 0:\n",
    "    print(i)\n",
    "    i -= 1"
   ]
  },
  {
   "cell_type": "code",
   "execution_count": 12,
   "metadata": {},
   "outputs": [
    {
     "name": "stdout",
     "output_type": "stream",
     "text": [
      "大文字小文字変換 [qで終了]: a\n",
      "A\n",
      "大文字小文字変換 [qで終了]: b\n",
      "B\n",
      "大文字小文字変換 [qで終了]: q\n"
     ]
    }
   ],
   "source": [
    "#\n",
    "# 繰り返し中止\n",
    "#\n",
    "while True:\n",
    "    key_in = input(\"大文字小文字変換 [qで終了]: \")\n",
    "    if key_in == \"q\":\n",
    "        break\n",
    "    print(key_in.capitalize())"
   ]
  },
  {
   "cell_type": "code",
   "execution_count": 1,
   "metadata": {},
   "outputs": [
    {
     "name": "stdout",
     "output_type": "stream",
     "text": [
      "奇数の２乗[qで終了]: 2\n",
      "奇数の２乗[qで終了]: 3\n",
      "9\n",
      "奇数の２乗[qで終了]: 4\n",
      "奇数の２乗[qで終了]: 5\n",
      "25\n",
      "奇数の２乗[qで終了]: q\n"
     ]
    }
   ],
   "source": [
    "#\n",
    "# 繰り返し続行\n",
    "#\n",
    "while True:\n",
    "    key_in = input(\"奇数の２乗[qで終了]: \")\n",
    "    if key_in == \"q\":\n",
    "        break\n",
    "    num = int(key_in)\n",
    "    if num%2 == 0:\n",
    "        continue\n",
    "    print(num*num)"
   ]
  },
  {
   "cell_type": "code",
   "execution_count": 9,
   "metadata": {},
   "outputs": [
    {
     "name": "stdout",
     "output_type": "stream",
     "text": [
      "USA\n",
      "France\n",
      "UK\n",
      "Japan is found !\n"
     ]
    }
   ],
   "source": [
    "#\n",
    "# 繰り返しのbreakのチェック\n",
    "#\n",
    "countries = [\"USA\",\"France\",\"UK\",\"Japan\",\"Germany\"]\n",
    "i = 0\n",
    "while i < len(countries):\n",
    "    if countries[i] == \"Japan\":\n",
    "        print(\"Japan is found !\")\n",
    "        break\n",
    "    print(countries[i])\n",
    "    i += 1\n",
    "else:\n",
    "    print(\"Japan not found\")"
   ]
  },
  {
   "cell_type": "code",
   "execution_count": 10,
   "metadata": {},
   "outputs": [
    {
     "name": "stdout",
     "output_type": "stream",
     "text": [
      "USA\n",
      "France\n",
      "UK\n",
      "Japan\n",
      "Germany\n"
     ]
    }
   ],
   "source": [
    "#\n",
    "#  繰り返し　リスト　for\n",
    "#\n",
    "for c in countries:\n",
    "    print(c)"
   ]
  },
  {
   "cell_type": "code",
   "execution_count": 7,
   "metadata": {},
   "outputs": [
    {
     "name": "stdout",
     "output_type": "stream",
     "text": [
      "(1, 'USA')\n",
      "(2, 'Japan')\n",
      "(3, 'France')\n",
      "(4, 'UK')\n"
     ]
    }
   ],
   "source": [
    "#\n",
    "#　繰り返し　辞書　for\n",
    "#\n",
    "c_dicts = {1: 'USA', 2: 'Japan', 3:'France', 4: 'UK'}\n",
    "for c in c_dicts.items():\n",
    "    print(c)"
   ]
  },
  {
   "cell_type": "code",
   "execution_count": 9,
   "metadata": {},
   "outputs": [
    {
     "name": "stdout",
     "output_type": "stream",
     "text": [
      "東京 そば ホッピー\n",
      "大阪 たこ焼き 日本酒\n",
      "名古屋 味噌カツ ワイン\n",
      "仙台 牛タン ビール\n"
     ]
    }
   ],
   "source": [
    "#\n",
    "#  zip()を使ったシーケンス処理\n",
    "#    複数のリストを並列に処理する\n",
    "#\n",
    "areas = ['東京','大阪','名古屋','仙台']\n",
    "foods = ['そば','たこ焼き','味噌カツ','牛タン']\n",
    "drinks = ['ホッピー','日本酒','ワイン','ビール']\n",
    "for area, food, drink in zip(areas, foods, drinks):\n",
    "    print(area, food, drink)"
   ]
  },
  {
   "cell_type": "code",
   "execution_count": 14,
   "metadata": {
    "scrolled": true
   },
   "outputs": [
    {
     "name": "stdout",
     "output_type": "stream",
     "text": [
      "0 to 5\n",
      "0\n",
      "1\n",
      "2\n",
      "3\n",
      "4\n",
      "\n",
      "10 to 20 step 2\n",
      "10\n",
      "12\n",
      "14\n",
      "16\n",
      "18\n"
     ]
    }
   ],
   "source": [
    "#\n",
    "#  range()による数値シーケンス\n",
    "#\n",
    "print(\"0 to 5\")\n",
    "for x in range(0, 5):\n",
    "    print(x)\n",
    "print(\"\\n10 to 20 step 2\")\n",
    "for y in range(10, 20, 2):\n",
    "    print(y)"
   ]
  },
  {
   "cell_type": "code",
   "execution_count": 16,
   "metadata": {},
   "outputs": [
    {
     "name": "stdout",
     "output_type": "stream",
     "text": [
      "[1, 2, 3, 4, 5]\n"
     ]
    }
   ],
   "source": [
    "#\n",
    "# 内包表記 リスト\n",
    "#   [式 for 要素 in シーケンス]\n",
    "n_list = [n for n in range(1,6)]\n",
    "print(n_list)"
   ]
  },
  {
   "cell_type": "code",
   "execution_count": 19,
   "metadata": {},
   "outputs": [
    {
     "name": "stdout",
     "output_type": "stream",
     "text": [
      "{'東京': 'そば', '大阪': 'たこ焼き', '名古屋': '味噌カツ', '仙台': '牛タン'}\n"
     ]
    }
   ],
   "source": [
    "#\n",
    "# 内包表記　辞書\n",
    "#  {キー:値 for 辞書要素 in 辞書}\n",
    "#\n",
    "areas = ['東京','大阪','名古屋','仙台']\n",
    "foods = ['そば','たこ焼き','味噌カツ','牛タン']\n",
    "f_dict = {key:value for key,value in zip(areas, foods)}\n",
    "print(f_dict)"
   ]
  },
  {
   "cell_type": "code",
   "execution_count": 21,
   "metadata": {},
   "outputs": [
    {
     "name": "stdout",
     "output_type": "stream",
     "text": [
      "Hello Python !\n"
     ]
    }
   ],
   "source": [
    "#\n",
    "# 関数\n",
    "#\n",
    "def greeting(name):\n",
    "    return \"Hello \" + name + \" !\"\n",
    "\n",
    "print(greeting(\"Python\"))"
   ]
  },
  {
   "cell_type": "code",
   "execution_count": 23,
   "metadata": {},
   "outputs": [
    {
     "name": "stdout",
     "output_type": "stream",
     "text": [
      "{'東京': 'そば', '大阪': 'たこ焼き', '名古屋': '味噌カツ'}\n"
     ]
    }
   ],
   "source": [
    "#\n",
    "# 関数　位置引数\n",
    "#\n",
    "def area_food(tokyo, osaka, nagoya):\n",
    "    return {'東京': tokyo ,'大阪':osaka ,'名古屋':nagoya }\n",
    "\n",
    "print(area_food('そば','たこ焼き','味噌カツ'))"
   ]
  },
  {
   "cell_type": "code",
   "execution_count": 26,
   "metadata": {},
   "outputs": [
    {
     "name": "stdout",
     "output_type": "stream",
     "text": [
      "{'東京': 'そば', '大阪': 'たこ焼き', '名古屋': '味噌カツ'}\n"
     ]
    }
   ],
   "source": [
    "#\n",
    "# 関数　キーワード引数\n",
    "#　　仮引数を指定して値を渡す\n",
    "print(area_food(nagoya='味噌カツ',tokyo='そば',osaka='たこ焼き'))"
   ]
  },
  {
   "cell_type": "code",
   "execution_count": 29,
   "metadata": {},
   "outputs": [
    {
     "name": "stdout",
     "output_type": "stream",
     "text": [
      "{'東京': 'そば', '大阪': 'お好み焼き', '名古屋': '味噌カツ'}\n"
     ]
    }
   ],
   "source": [
    "#\n",
    "# 関数　デフォルト値の指定\n",
    "#\n",
    "def area_food(tokyo, nagoya, osaka=\"お好み焼き\"):\n",
    "    return {'東京': tokyo ,'大阪':osaka ,'名古屋':nagoya }\n",
    "\n",
    "print(area_food('そば','味噌カツ'))"
   ]
  },
  {
   "cell_type": "code",
   "execution_count": 32,
   "metadata": {},
   "outputs": [
    {
     "name": "stdout",
     "output_type": "stream",
     "text": [
      "(1, 3, 'Hello', 'Thanks!')\n"
     ]
    }
   ],
   "source": [
    "#\n",
    "# 関数　可変長引数\n",
    "#    複数個の引数をタプルで渡す\n",
    "#\n",
    "def print_args(*args):\n",
    "    print(args)\n",
    "\n",
    "print_args(1, 3, 'Hello', 'Thanks!')"
   ]
  },
  {
   "cell_type": "code",
   "execution_count": 3,
   "metadata": {},
   "outputs": [
    {
     "name": "stdout",
     "output_type": "stream",
     "text": [
      "{'area': '東京', 'food': 'そば', 'drink': 'ホッピー'}\n"
     ]
    }
   ],
   "source": [
    "#\n",
    "# 関数　可変長キーワード引数の辞書化\n",
    "#  複数のキーワード引数を一つに辞書化して渡す\n",
    "#\n",
    "def print_kwargs(**kwargs):\n",
    "    print(kwargs)\n",
    "\n",
    "print_kwargs(area='東京', food='そば', drink='ホッピー')"
   ]
  },
  {
   "cell_type": "code",
   "execution_count": 4,
   "metadata": {},
   "outputs": [
    {
     "name": "stdout",
     "output_type": "stream",
     "text": [
      "Help on function area_food in module __main__:\n",
      "\n",
      "area_food(tokyo, nagoya, osaka='お好み焼き')\n",
      "    ご当地グルメ情報を返す。\n",
      "    \n",
      "    引数　tokyo, osaka, nagoya:  それぞれの地域の料理\n",
      "    返却値: エリア：食べ物の辞書データ\n",
      "\n"
     ]
    }
   ],
   "source": [
    "#\n",
    "#  docstring\n",
    "#    関数定義ドキュメント\n",
    "#\n",
    "def area_food(tokyo, nagoya, osaka=\"お好み焼き\"):\n",
    "    '''\n",
    "    ご当地グルメ情報を返す。\n",
    "    \n",
    "    引数　tokyo, osaka, nagoya:  それぞれの地域の料理\n",
    "    返却値: エリア：食べ物の辞書データ\n",
    "    '''\n",
    "    return {'東京': tokyo ,'大阪':osaka ,'名古屋':nagoya }\n",
    "\n",
    "help(area_food)"
   ]
  },
  {
   "cell_type": "code",
   "execution_count": 5,
   "metadata": {},
   "outputs": [
    {
     "name": "stdout",
     "output_type": "stream",
     "text": [
      "16\n"
     ]
    }
   ],
   "source": [
    "#\n",
    "# 関数を引数で渡す\n",
    "#\n",
    "def calc_square(num):\n",
    "    print(num * num)\n",
    "\n",
    "def do_func(f,arg):\n",
    "    f(arg)\n",
    "\n",
    "do_func(calc_square,4)"
   ]
  },
  {
   "cell_type": "code",
   "execution_count": 8,
   "metadata": {},
   "outputs": [
    {
     "data": {
      "text/plain": [
       "10"
      ]
     },
     "execution_count": 8,
     "metadata": {},
     "output_type": "execute_result"
    }
   ],
   "source": [
    "#\n",
    "# 関数内関数\n",
    "#\n",
    "def out_f(a, b):\n",
    "    def in_f(c, d):\n",
    "        return c * d\n",
    "    return in_f(a,b)\n",
    "\n",
    "out_f(2, 5)"
   ]
  },
  {
   "cell_type": "code",
   "execution_count": 13,
   "metadata": {},
   "outputs": [
    {
     "data": {
      "text/plain": [
       "'Hello Python'"
      ]
     },
     "execution_count": 13,
     "metadata": {},
     "output_type": "execute_result"
    }
   ],
   "source": [
    "#\n",
    "# クロージャー\n",
    "#   他の関数に動的に生成される関数\n",
    "#\n",
    "def print_msg(msg):\n",
    "    def inner():\n",
    "        return \"Hello \" + msg\n",
    "    return inner\n",
    "\n",
    "# クロージャー生成\n",
    "a = print_msg(\"Python\")\n",
    "b = print_msg(\"Ruby\")\n",
    "\n",
    "# クロージャー呼び出し\n",
    "a()"
   ]
  },
  {
   "cell_type": "code",
   "execution_count": 15,
   "metadata": {},
   "outputs": [
    {
     "data": {
      "text/plain": [
       "'Hello Ruby'"
      ]
     },
     "execution_count": 15,
     "metadata": {},
     "output_type": "execute_result"
    }
   ],
   "source": [
    "# クロージャー呼び出し\n",
    "b()"
   ]
  },
  {
   "cell_type": "code",
   "execution_count": 21,
   "metadata": {},
   "outputs": [
    {
     "name": "stdout",
     "output_type": "stream",
     "text": [
      "HELLO PYTHON\n"
     ]
    }
   ],
   "source": [
    "#\n",
    "# 無名関数（ラムダ関数）\n",
    "#   lambda 引数: 関数本体\n",
    "#\n",
    "def print_msg(msg, func):\n",
    "    print(func(msg))\n",
    "\n",
    "print_msg(\"Hello Python\", lambda arg: arg.upper())"
   ]
  },
  {
   "cell_type": "code",
   "execution_count": 25,
   "metadata": {},
   "outputs": [
    {
     "name": "stdout",
     "output_type": "stream",
     "text": [
      "1\n",
      "2\n",
      "3\n",
      "4\n"
     ]
    }
   ],
   "source": [
    "#\n",
    "#  ジェネレータ\n",
    "#    シーケンス全体をメモリーに格納せず処理\n",
    "#  \n",
    "def my_range(first=0, last=10, step=1):\n",
    "    number = first\n",
    "    while number < last:\n",
    "        yield number\n",
    "        number += step\n",
    "\n",
    "for x in my_range(1, 5):\n",
    "    print(x)"
   ]
  },
  {
   "cell_type": "code",
   "execution_count": 12,
   "metadata": {},
   "outputs": [
    {
     "name": "stdout",
     "output_type": "stream",
     "text": [
      "名前:  add_num\n",
      "引数:  (3, 8)\n",
      "キーワード引数:  {}\n",
      "リターン値:  11\n"
     ]
    },
    {
     "data": {
      "text/plain": [
       "11"
      ]
     },
     "execution_count": 12,
     "metadata": {},
     "output_type": "execute_result"
    }
   ],
   "source": [
    "#\n",
    "# デコレータ\n",
    "#    関数本体を書き換えずに関数の振る舞いを変更する\n",
    "#    @デコレータ名\n",
    "#\n",
    "def func_info(func):\n",
    "    def new_function(*args, **kwargs):\n",
    "        print('名前: ', func.__name__)\n",
    "        print('引数: ', args)\n",
    "        print('キーワード引数: ', kwargs)\n",
    "        result = func(*args, **kwargs)\n",
    "        print('リターン値: ', result)\n",
    "        return result\n",
    "    return new_function\n",
    "\n",
    "@func_info\n",
    "def add_num(a, b):\n",
    "    return a + b\n",
    "\n",
    "add_num(3, 8)"
   ]
  },
  {
   "cell_type": "code",
   "execution_count": 38,
   "metadata": {},
   "outputs": [
    {
     "name": "stdout",
     "output_type": "stream",
     "text": [
      "animal changed from:  bat\n",
      "animal changed to:  wombat\n"
     ]
    }
   ],
   "source": [
    "#\n",
    "# 変数の名前空間とスコープ\n",
    "#\n",
    "animal = \"bat\"\n",
    "def change_local():\n",
    "    global animal\n",
    "    print('animal changed from: ', animal)\n",
    "    animal = 'wombat'\n",
    "    print('animal changed to: ', animal)\n",
    "\n",
    "change_local()"
   ]
  },
  {
   "cell_type": "code",
   "execution_count": 43,
   "metadata": {},
   "outputs": [
    {
     "name": "stdout",
     "output_type": "stream",
     "text": [
      "1\n",
      "2\n",
      "3\n",
      "4\n",
      "5\n",
      "Error: List position must be between 0 to  5\n"
     ]
    }
   ],
   "source": [
    "#\n",
    "# 例外処理\n",
    "#   try, except\n",
    "#\n",
    "n_list = [1,2,3,4,5]\n",
    "pos = 8\n",
    "try:\n",
    "    for i in range(0,pos):\n",
    "        print(n_list[i])\n",
    "except:\n",
    "    print('Error: List position must be between 0 to ', len(n_list))"
   ]
  },
  {
   "cell_type": "code",
   "execution_count": null,
   "metadata": {},
   "outputs": [],
   "source": [
    "n_list = [1,2,3,4,5]\n",
    "pos = input('Position? ')\n",
    "try:\n",
    "    for i in range(0,int(pos)):\n",
    "        print(n_list[i])\n",
    "except IndexError as err:\n",
    "    print('IndexError: position = ', pos)\n",
    "except Exception as other:\n",
    "    print('Error: ', other)"
   ]
  }
 ],
 "metadata": {
  "kernelspec": {
   "display_name": "Python 3",
   "language": "python",
   "name": "python3"
  },
  "language_info": {
   "codemirror_mode": {
    "name": "ipython",
    "version": 3
   },
   "file_extension": ".py",
   "mimetype": "text/x-python",
   "name": "python",
   "nbconvert_exporter": "python",
   "pygments_lexer": "ipython3",
   "version": "3.7.6"
  }
 },
 "nbformat": 4,
 "nbformat_minor": 4
}
